{
 "cells": [
  {
   "cell_type": "code",
   "execution_count": 1,
   "id": "139ee38f",
   "metadata": {},
   "outputs": [],
   "source": [
    "import pandas as pd\n",
    "import preproccesing as ps"
   ]
  },
  {
   "cell_type": "code",
   "execution_count": 2,
   "id": "f1ca6f26",
   "metadata": {},
   "outputs": [],
   "source": [
    "# загрузка датасетов\n",
    "DATA_DIR = 'data/'\n",
    "try:\n",
    "    dealers_id = pd.read_csv(DATA_DIR + 'marketing_dealer.csv', sep=\";\")\n",
    "    data_dealers = pd.read_csv(DATA_DIR +'marketing_dealerprice.csv', sep=\";\", parse_dates=['date'])\n",
    "    data_products = pd.read_csv(DATA_DIR + 'marketing_product.csv', sep=\";\", index_col='Unnamed: 0',)\n",
    "    data_key = pd.read_csv(DATA_DIR + 'marketing_productdealerkey.csv',  sep=\";\")\n",
    "except:\n",
    "    delers_id = pd.read_csv('marketing_dealer.csv', sep=\";\")\n",
    "    data_dealers = pd.read_csv('marketing_dealerprice.csv', sep=\";\", parse_dates=['date'])\n",
    "    data_products = pd.read_csv('marketing_product.csv', sep=\";\", index_col='Unnamed: 0',)\n",
    "    data_key  = pd.read_csv('marketing_productdealerkey.csv', sep=';')"
   ]
  },
  {
   "cell_type": "code",
   "execution_count": 3,
   "id": "13a0ba8b",
   "metadata": {},
   "outputs": [
    {
     "data": {
      "text/html": [
       "<div>\n",
       "<style scoped>\n",
       "    .dataframe tbody tr th:only-of-type {\n",
       "        vertical-align: middle;\n",
       "    }\n",
       "\n",
       "    .dataframe tbody tr th {\n",
       "        vertical-align: top;\n",
       "    }\n",
       "\n",
       "    .dataframe thead th {\n",
       "        text-align: right;\n",
       "    }\n",
       "</style>\n",
       "<table border=\"1\" class=\"dataframe\">\n",
       "  <thead>\n",
       "    <tr style=\"text-align: right;\">\n",
       "      <th></th>\n",
       "      <th>id</th>\n",
       "      <th>product_key</th>\n",
       "      <th>price</th>\n",
       "      <th>product_url</th>\n",
       "      <th>product_name</th>\n",
       "      <th>date</th>\n",
       "      <th>dealer_id</th>\n",
       "    </tr>\n",
       "  </thead>\n",
       "  <tbody>\n",
       "    <tr>\n",
       "      <th>0</th>\n",
       "      <td>2</td>\n",
       "      <td>546227</td>\n",
       "      <td>233.0</td>\n",
       "      <td>https://akson.ru//p/sredstvo_universalnoe_pros...</td>\n",
       "      <td>Средство универсальное Prosept Universal Spray...</td>\n",
       "      <td>2023-07-11</td>\n",
       "      <td>2</td>\n",
       "    </tr>\n",
       "    <tr>\n",
       "      <th>1</th>\n",
       "      <td>3</td>\n",
       "      <td>546408</td>\n",
       "      <td>175.0</td>\n",
       "      <td>https://akson.ru//p/kontsentrat_prosept_multip...</td>\n",
       "      <td>Концентрат Prosept Multipower для мытья полов,...</td>\n",
       "      <td>2023-07-11</td>\n",
       "      <td>2</td>\n",
       "    </tr>\n",
       "  </tbody>\n",
       "</table>\n",
       "</div>"
      ],
      "text/plain": [
       "   id product_key  price                                        product_url  \\\n",
       "0   2      546227  233.0  https://akson.ru//p/sredstvo_universalnoe_pros...   \n",
       "1   3      546408  175.0  https://akson.ru//p/kontsentrat_prosept_multip...   \n",
       "\n",
       "                                        product_name       date  dealer_id  \n",
       "0  Средство универсальное Prosept Universal Spray... 2023-07-11          2  \n",
       "1  Концентрат Prosept Multipower для мытья полов,... 2023-07-11          2  "
      ]
     },
     "metadata": {},
     "output_type": "display_data"
    },
    {
     "data": {
      "text/html": [
       "<div>\n",
       "<style scoped>\n",
       "    .dataframe tbody tr th:only-of-type {\n",
       "        vertical-align: middle;\n",
       "    }\n",
       "\n",
       "    .dataframe tbody tr th {\n",
       "        vertical-align: top;\n",
       "    }\n",
       "\n",
       "    .dataframe thead th {\n",
       "        text-align: right;\n",
       "    }\n",
       "</style>\n",
       "<table border=\"1\" class=\"dataframe\">\n",
       "  <thead>\n",
       "    <tr style=\"text-align: right;\">\n",
       "      <th></th>\n",
       "      <th>id</th>\n",
       "      <th>article</th>\n",
       "      <th>ean_13</th>\n",
       "      <th>name</th>\n",
       "      <th>cost</th>\n",
       "      <th>recommended_price</th>\n",
       "      <th>category_id</th>\n",
       "      <th>ozon_name</th>\n",
       "      <th>name_1c</th>\n",
       "      <th>wb_name</th>\n",
       "      <th>ozon_article</th>\n",
       "      <th>wb_article</th>\n",
       "      <th>ym_article</th>\n",
       "      <th>wb_article_td</th>\n",
       "    </tr>\n",
       "  </thead>\n",
       "  <tbody>\n",
       "    <tr>\n",
       "      <th>0</th>\n",
       "      <td>245</td>\n",
       "      <td>008-1</td>\n",
       "      <td>4.680008e+12</td>\n",
       "      <td>Антисептик невымываемыйPROSEPT ULTRAконцентрат...</td>\n",
       "      <td>360.00</td>\n",
       "      <td>858.0</td>\n",
       "      <td>20.0</td>\n",
       "      <td>Антисептик невымываемый для ответственных конс...</td>\n",
       "      <td>Антисептик невымываемый для ответственных конс...</td>\n",
       "      <td>Антисептик невымываемый для ответственных конс...</td>\n",
       "      <td>189522705.0</td>\n",
       "      <td>150033482.0</td>\n",
       "      <td>008-1</td>\n",
       "      <td>NaN</td>\n",
       "    </tr>\n",
       "    <tr>\n",
       "      <th>1</th>\n",
       "      <td>3</td>\n",
       "      <td>242-12</td>\n",
       "      <td>NaN</td>\n",
       "      <td>Антигололед - 32 PROSEPTготовый состав / 12 кг</td>\n",
       "      <td>460.16</td>\n",
       "      <td>1075.0</td>\n",
       "      <td>NaN</td>\n",
       "      <td>NaN</td>\n",
       "      <td>Антигололед - 32 PROSEPTготовый состав / 12 кг</td>\n",
       "      <td>NaN</td>\n",
       "      <td>NaN</td>\n",
       "      <td>NaN</td>\n",
       "      <td>NaN</td>\n",
       "      <td>NaN</td>\n",
       "    </tr>\n",
       "  </tbody>\n",
       "</table>\n",
       "</div>"
      ],
      "text/plain": [
       "    id article        ean_13  \\\n",
       "0  245   008-1  4.680008e+12   \n",
       "1    3  242-12           NaN   \n",
       "\n",
       "                                                name    cost  \\\n",
       "0  Антисептик невымываемыйPROSEPT ULTRAконцентрат...  360.00   \n",
       "1     Антигололед - 32 PROSEPTготовый состав / 12 кг  460.16   \n",
       "\n",
       "   recommended_price  category_id  \\\n",
       "0              858.0         20.0   \n",
       "1             1075.0          NaN   \n",
       "\n",
       "                                           ozon_name  \\\n",
       "0  Антисептик невымываемый для ответственных конс...   \n",
       "1                                                NaN   \n",
       "\n",
       "                                             name_1c  \\\n",
       "0  Антисептик невымываемый для ответственных конс...   \n",
       "1     Антигололед - 32 PROSEPTготовый состав / 12 кг   \n",
       "\n",
       "                                             wb_name  ozon_article  \\\n",
       "0  Антисептик невымываемый для ответственных конс...   189522705.0   \n",
       "1                                                NaN           NaN   \n",
       "\n",
       "    wb_article ym_article wb_article_td  \n",
       "0  150033482.0      008-1           NaN  \n",
       "1          NaN        NaN           NaN  "
      ]
     },
     "metadata": {},
     "output_type": "display_data"
    }
   ],
   "source": [
    "display(data_dealers.head(2),\n",
    "       data_products.head(2))"
   ]
  },
  {
   "cell_type": "code",
   "execution_count": 4,
   "id": "d2a08a64",
   "metadata": {},
   "outputs": [
    {
     "name": "stdout",
     "output_type": "stream",
     "text": [
      "CPU times: user 46.5 s, sys: 18.1 s, total: 1min 4s\n",
      "Wall time: 1min 4s\n"
     ]
    }
   ],
   "source": [
    "%%time\n",
    "dealer = ps.preprocessing_prosept(data_dealers,\n",
    "                             'product_name',\n",
    "                             'product_key',\n",
    "                             data_with_product=False).transform()"
   ]
  },
  {
   "cell_type": "code",
   "execution_count": 5,
   "id": "49e4c9ac",
   "metadata": {},
   "outputs": [
    {
     "name": "stdout",
     "output_type": "stream",
     "text": [
      "CPU times: user 11.2 s, sys: 4.28 s, total: 15.5 s\n",
      "Wall time: 15.5 s\n"
     ]
    }
   ],
   "source": [
    "%%time\n",
    "product = ps.preprocessing_prosept(data_products,\n",
    "                             'name',\n",
    "                             'id').transform()"
   ]
  },
  {
   "cell_type": "code",
   "execution_count": 6,
   "id": "cd2cb1c5",
   "metadata": {},
   "outputs": [
    {
     "data": {
      "text/html": [
       "<div>\n",
       "<style scoped>\n",
       "    .dataframe tbody tr th:only-of-type {\n",
       "        vertical-align: middle;\n",
       "    }\n",
       "\n",
       "    .dataframe tbody tr th {\n",
       "        vertical-align: top;\n",
       "    }\n",
       "\n",
       "    .dataframe thead th {\n",
       "        text-align: right;\n",
       "    }\n",
       "</style>\n",
       "<table border=\"1\" class=\"dataframe\">\n",
       "  <thead>\n",
       "    <tr style=\"text-align: right;\">\n",
       "      <th></th>\n",
       "      <th>product_name</th>\n",
       "      <th>product_key</th>\n",
       "    </tr>\n",
       "  </thead>\n",
       "  <tbody>\n",
       "    <tr>\n",
       "      <th>0</th>\n",
       "      <td>средство удаление цемент prosept cement cleane...</td>\n",
       "      <td>132643</td>\n",
       "    </tr>\n",
       "    <tr>\n",
       "      <th>1</th>\n",
       "      <td>антисептик proseptecoultra 10 л</td>\n",
       "      <td>1001472237</td>\n",
       "    </tr>\n",
       "  </tbody>\n",
       "</table>\n",
       "</div>"
      ],
      "text/plain": [
       "                                        product_name product_key\n",
       "0  средство удаление цемент prosept cement cleane...      132643\n",
       "1                    антисептик proseptecoultra 10 л  1001472237"
      ]
     },
     "metadata": {},
     "output_type": "display_data"
    },
    {
     "data": {
      "text/html": [
       "<div>\n",
       "<style scoped>\n",
       "    .dataframe tbody tr th:only-of-type {\n",
       "        vertical-align: middle;\n",
       "    }\n",
       "\n",
       "    .dataframe tbody tr th {\n",
       "        vertical-align: top;\n",
       "    }\n",
       "\n",
       "    .dataframe thead th {\n",
       "        text-align: right;\n",
       "    }\n",
       "</style>\n",
       "<table border=\"1\" class=\"dataframe\">\n",
       "  <thead>\n",
       "    <tr style=\"text-align: right;\">\n",
       "      <th></th>\n",
       "      <th>name</th>\n",
       "      <th>id</th>\n",
       "    </tr>\n",
       "  </thead>\n",
       "  <tbody>\n",
       "    <tr>\n",
       "      <th>0</th>\n",
       "      <td>антисептик невымываемый prosept ultra концентр...</td>\n",
       "      <td>245</td>\n",
       "    </tr>\n",
       "    <tr>\n",
       "      <th>1</th>\n",
       "      <td>антигололёд 32 prosept готовый состав 12 кг</td>\n",
       "      <td>3</td>\n",
       "    </tr>\n",
       "  </tbody>\n",
       "</table>\n",
       "</div>"
      ],
      "text/plain": [
       "                                                name   id\n",
       "0  антисептик невымываемый prosept ultra концентр...  245\n",
       "1        антигололёд 32 prosept готовый состав 12 кг    3"
      ]
     },
     "metadata": {},
     "output_type": "display_data"
    }
   ],
   "source": [
    "display(dealer.head(2),\n",
    "       product.head(2))"
   ]
  }
 ],
 "metadata": {
  "kernelspec": {
   "display_name": "Python 3 (ipykernel)",
   "language": "python",
   "name": "python3"
  },
  "language_info": {
   "codemirror_mode": {
    "name": "ipython",
    "version": 3
   },
   "file_extension": ".py",
   "mimetype": "text/x-python",
   "name": "python",
   "nbconvert_exporter": "python",
   "pygments_lexer": "ipython3",
   "version": "3.11.4"
  }
 },
 "nbformat": 4,
 "nbformat_minor": 5
}
